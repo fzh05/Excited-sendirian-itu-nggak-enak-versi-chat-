{
 "cells": [
  {
   "cell_type": "code",
   "execution_count": 15,
   "id": "7adef975",
   "metadata": {},
   "outputs": [
    {
     "name": "stdout",
     "output_type": "stream",
     "text": [
      "Tunggu dulu. Kasih aja space waktu buat dia mikir\n",
      "Suhu hubungan: None°C\n"
     ]
    }
   ],
   "source": [
    "def should_i_chat(last_chat_who, days_since_read, always_initiate, feel_tired):\n",
    "    if last_chat_who == \"me\" and days_since_read > 2 :\n",
    "        if always_initiate:\n",
    "            if feel_tired:\n",
    "                return \"STOP dulu. Tunggu dia yang mulai chat duluan\" \n",
    "            else:\n",
    "                return \"Boleh chat lagi, tapi harus sadar kamu terus yang mulai chat duluan\"\n",
    "        else:\n",
    "            return \"Boleh chat lagi, tapi liat dia chat kamu duluan ga (jangan excited sendirian)\"  \n",
    "    else:\n",
    "        return \"Tunggu dulu. Kasih aja space waktu buat dia mikir\"\n",
    "    \n",
    "def relatinship_temperature(view_story, reply_chat, days_since_interaction):\n",
    "    \"\"\"\n",
    "    Menghitung suhu 'hubungan' berdasarkan aktivitas.\n",
    "    - view story: TRUE/FALSE (apakah dia liat story kamu?)\n",
    "    - reply_chat: TRUE/FALSE (apakah dia balas chat kamu?)\n",
    "    - days_since_interaction: berapa hari sejak interaksi terakhir\n",
    "    \"\"\"\n",
    "    temp = 0\n",
    "\n",
    "    if view_story:\n",
    "        temp += 30\n",
    "    if reply_chat:\n",
    "        temp += 50\n",
    "    if days_since_interaction <= 2:\n",
    "        temp += 20\n",
    "    elif days_since_interaction <= 5:\n",
    "        temp -= 10\n",
    "    else:\n",
    "        temp -= 10\n",
    "\n",
    "    #Maksimal 100, minimal 0\n",
    "    temp = max(0, min(temp, 100))\n",
    "\n",
    "# Contoh penggunaan\n",
    "last_chat_who = \"me\"    # siapa yang terakhir chat (\"me\" atau \"them\")\n",
    "days_since_read = 1    # berapa hari sejak dia baca chat terakhir kamu\n",
    "always_initiate = True  # apakah kamu selalu yang mulai chat\n",
    "feel_tired = True      # apakah kamu merasa capek?   \n",
    "\n",
    "# Define the missing variables\n",
    "view_story = True  # apakah dia liat story kamu? (True/False)\n",
    "reply_chat = False  # apakah dia balas chat kamu? (True/False)\n",
    "days_since_interaction = 1  # berapa hari sejak interaksi terakhir\n",
    "\n",
    "decision = should_i_chat(last_chat_who, days_since_read, always_initiate, feel_tired)\n",
    "temperature = relatinship_temperature(view_story, reply_chat, days_since_interaction)\n",
    "\n",
    "print(decision)\n",
    "print(f\"Suhu hubungan: {temperature}°C\")"
   ]
  },
  {
   "cell_type": "code",
   "execution_count": null,
   "id": "4ea95bfe",
   "metadata": {},
   "outputs": [],
   "source": []
  }
 ],
 "metadata": {
  "kernelspec": {
   "display_name": "Python 3",
   "language": "python",
   "name": "python3"
  },
  "language_info": {
   "codemirror_mode": {
    "name": "ipython",
    "version": 3
   },
   "file_extension": ".py",
   "mimetype": "text/x-python",
   "name": "python",
   "nbconvert_exporter": "python",
   "pygments_lexer": "ipython3",
   "version": "3.12.3"
  }
 },
 "nbformat": 4,
 "nbformat_minor": 5
}
